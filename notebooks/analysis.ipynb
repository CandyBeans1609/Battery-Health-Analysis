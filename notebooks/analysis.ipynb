{
 "cells": [
  {
   "cell_type": "code",
   "execution_count": 1,
   "metadata": {},
   "outputs": [],
   "source": [
    "import pandas as pd\n",
    "import matplotlib.pyplot as plt\n",
    "import seaborn as sns"
   ]
  },
  {
   "cell_type": "code",
   "execution_count": 2,
   "metadata": {},
   "outputs": [],
   "source": [
    "# Load the dataset\n",
    "file_path = '../data/case_study_sample_dataset.gzip'\n",
    "dataset = pd.read_parquet(file_path)"
   ]
  },
  {
   "cell_type": "code",
   "execution_count": 5,
   "metadata": {},
   "outputs": [
    {
     "name": "stdout",
     "output_type": "stream",
     "text": [
      "Dataset successfully converted to CSV and saved at ../data/case_study_sample_dataset.csv\n"
     ]
    }
   ],
   "source": [
    "# Convert the dataset to CSV format\n",
    "csv_file_path = '../data/case_study_sample_dataset.csv'\n",
    "dataset.to_csv(csv_file_path, index=False)\n",
    "print(f\"Dataset successfully converted to CSV and saved at {csv_file_path}\")"
   ]
  },
  {
   "cell_type": "code",
   "execution_count": 4,
   "metadata": {},
   "outputs": [],
   "source": [
    "# Reload the dataset from CSV for analysis\n",
    "df = pd.read_csv(csv_file_path)"
   ]
  },
  {
   "cell_type": "code",
   "execution_count": 6,
   "metadata": {},
   "outputs": [
    {
     "name": "stdout",
     "output_type": "stream",
     "text": [
      "The DataFrame has 3246507 rows and 9 columns.\n"
     ]
    }
   ],
   "source": [
    "# Print the size of the DataFrame\n",
    "print(f\"The DataFrame has {df.shape[0]} rows and {df.shape[1]} columns.\")\n"
   ]
  },
  {
   "cell_type": "code",
   "execution_count": 7,
   "metadata": {},
   "outputs": [
    {
     "name": "stdout",
     "output_type": "stream",
     "text": [
      "First few rows of the dataset:\n"
     ]
    },
    {
     "data": {
      "text/html": [
       "<div>\n",
       "<style scoped>\n",
       "    .dataframe tbody tr th:only-of-type {\n",
       "        vertical-align: middle;\n",
       "    }\n",
       "\n",
       "    .dataframe tbody tr th {\n",
       "        vertical-align: top;\n",
       "    }\n",
       "\n",
       "    .dataframe thead th {\n",
       "        text-align: right;\n",
       "    }\n",
       "</style>\n",
       "<table border=\"1\" class=\"dataframe\">\n",
       "  <thead>\n",
       "    <tr style=\"text-align: right;\">\n",
       "      <th></th>\n",
       "      <th>index</th>\n",
       "      <th>test_time</th>\n",
       "      <th>cycle_index</th>\n",
       "      <th>cell_index</th>\n",
       "      <th>voltage</th>\n",
       "      <th>discharge_capacity</th>\n",
       "      <th>current</th>\n",
       "      <th>internal_resistance</th>\n",
       "      <th>temperature</th>\n",
       "    </tr>\n",
       "  </thead>\n",
       "  <tbody>\n",
       "    <tr>\n",
       "      <th>0</th>\n",
       "      <td>834355</td>\n",
       "      <td>1801.8327</td>\n",
       "      <td>0.0</td>\n",
       "      <td>2017-05-12_5_4C-50per_3C_CH13</td>\n",
       "      <td>3.291040</td>\n",
       "      <td>0.000016</td>\n",
       "      <td>-0.450999</td>\n",
       "      <td>0.021151</td>\n",
       "      <td>29.973852</td>\n",
       "    </tr>\n",
       "    <tr>\n",
       "      <th>1</th>\n",
       "      <td>834356</td>\n",
       "      <td>1811.8329</td>\n",
       "      <td>0.0</td>\n",
       "      <td>2017-05-12_5_4C-50per_3C_CH13</td>\n",
       "      <td>3.281339</td>\n",
       "      <td>0.001570</td>\n",
       "      <td>-0.559847</td>\n",
       "      <td>0.021151</td>\n",
       "      <td>30.012213</td>\n",
       "    </tr>\n",
       "    <tr>\n",
       "      <th>2</th>\n",
       "      <td>834357</td>\n",
       "      <td>1821.8363</td>\n",
       "      <td>0.0</td>\n",
       "      <td>2017-05-12_5_4C-50per_3C_CH13</td>\n",
       "      <td>3.277671</td>\n",
       "      <td>0.003125</td>\n",
       "      <td>-0.559859</td>\n",
       "      <td>0.021151</td>\n",
       "      <td>29.995052</td>\n",
       "    </tr>\n",
       "    <tr>\n",
       "      <th>3</th>\n",
       "      <td>834358</td>\n",
       "      <td>1831.8373</td>\n",
       "      <td>0.0</td>\n",
       "      <td>2017-05-12_5_4C-50per_3C_CH13</td>\n",
       "      <td>3.275081</td>\n",
       "      <td>0.004680</td>\n",
       "      <td>-0.559828</td>\n",
       "      <td>0.021151</td>\n",
       "      <td>29.981087</td>\n",
       "    </tr>\n",
       "    <tr>\n",
       "      <th>4</th>\n",
       "      <td>834359</td>\n",
       "      <td>1841.8468</td>\n",
       "      <td>0.0</td>\n",
       "      <td>2017-05-12_5_4C-50per_3C_CH13</td>\n",
       "      <td>3.273016</td>\n",
       "      <td>0.006237</td>\n",
       "      <td>-0.559821</td>\n",
       "      <td>0.021151</td>\n",
       "      <td>30.000351</td>\n",
       "    </tr>\n",
       "  </tbody>\n",
       "</table>\n",
       "</div>"
      ],
      "text/plain": [
       "    index  test_time  cycle_index                     cell_index   voltage  \\\n",
       "0  834355  1801.8327          0.0  2017-05-12_5_4C-50per_3C_CH13  3.291040   \n",
       "1  834356  1811.8329          0.0  2017-05-12_5_4C-50per_3C_CH13  3.281339   \n",
       "2  834357  1821.8363          0.0  2017-05-12_5_4C-50per_3C_CH13  3.277671   \n",
       "3  834358  1831.8373          0.0  2017-05-12_5_4C-50per_3C_CH13  3.275081   \n",
       "4  834359  1841.8468          0.0  2017-05-12_5_4C-50per_3C_CH13  3.273016   \n",
       "\n",
       "   discharge_capacity   current  internal_resistance  temperature  \n",
       "0            0.000016 -0.450999             0.021151    29.973852  \n",
       "1            0.001570 -0.559847             0.021151    30.012213  \n",
       "2            0.003125 -0.559859             0.021151    29.995052  \n",
       "3            0.004680 -0.559828             0.021151    29.981087  \n",
       "4            0.006237 -0.559821             0.021151    30.000351  "
      ]
     },
     "execution_count": 7,
     "metadata": {},
     "output_type": "execute_result"
    }
   ],
   "source": [
    "# Display the first few rows to understand the structure\n",
    "print(\"First few rows of the dataset:\")\n",
    "df.head()"
   ]
  },
  {
   "cell_type": "code",
   "execution_count": 8,
   "metadata": {},
   "outputs": [
    {
     "name": "stdout",
     "output_type": "stream",
     "text": [
      "\n",
      "Dataset Info:\n",
      "<class 'pandas.core.frame.DataFrame'>\n",
      "RangeIndex: 3246507 entries, 0 to 3246506\n",
      "Data columns (total 9 columns):\n",
      " #   Column               Dtype  \n",
      "---  ------               -----  \n",
      " 0   index                int64  \n",
      " 1   test_time            float64\n",
      " 2   cycle_index          float64\n",
      " 3   cell_index           object \n",
      " 4   voltage              float64\n",
      " 5   discharge_capacity   float64\n",
      " 6   current              float64\n",
      " 7   internal_resistance  float64\n",
      " 8   temperature          float64\n",
      "dtypes: float64(7), int64(1), object(1)\n",
      "memory usage: 222.9+ MB\n"
     ]
    }
   ],
   "source": [
    "# Display basic info about the dataset (e.g., column types, missing values)\n",
    "print(\"\\nDataset Info:\")\n",
    "df.info()"
   ]
  },
  {
   "cell_type": "code",
   "execution_count": 9,
   "metadata": {},
   "outputs": [
    {
     "name": "stdout",
     "output_type": "stream",
     "text": [
      "\n",
      "Missing values per column:\n",
      "index                  0\n",
      "test_time              0\n",
      "cycle_index            0\n",
      "cell_index             0\n",
      "voltage                0\n",
      "discharge_capacity     0\n",
      "current                0\n",
      "internal_resistance    0\n",
      "temperature            0\n",
      "dtype: int64\n"
     ]
    }
   ],
   "source": [
    "# Check for missing values in each column\n",
    "print(\"\\nMissing values per column:\")\n",
    "print(df.isnull().sum())"
   ]
  },
  {
   "cell_type": "code",
   "execution_count": 10,
   "metadata": {},
   "outputs": [
    {
     "name": "stdout",
     "output_type": "stream",
     "text": [
      "\n",
      "Statistical summary of numerical columns:\n"
     ]
    },
    {
     "data": {
      "text/html": [
       "<div>\n",
       "<style scoped>\n",
       "    .dataframe tbody tr th:only-of-type {\n",
       "        vertical-align: middle;\n",
       "    }\n",
       "\n",
       "    .dataframe tbody tr th {\n",
       "        vertical-align: top;\n",
       "    }\n",
       "\n",
       "    .dataframe thead th {\n",
       "        text-align: right;\n",
       "    }\n",
       "</style>\n",
       "<table border=\"1\" class=\"dataframe\">\n",
       "  <thead>\n",
       "    <tr style=\"text-align: right;\">\n",
       "      <th></th>\n",
       "      <th>index</th>\n",
       "      <th>test_time</th>\n",
       "      <th>cycle_index</th>\n",
       "      <th>voltage</th>\n",
       "      <th>discharge_capacity</th>\n",
       "      <th>current</th>\n",
       "      <th>internal_resistance</th>\n",
       "      <th>temperature</th>\n",
       "    </tr>\n",
       "  </thead>\n",
       "  <tbody>\n",
       "    <tr>\n",
       "      <th>count</th>\n",
       "      <td>3.246507e+06</td>\n",
       "      <td>3.246507e+06</td>\n",
       "      <td>3.246507e+06</td>\n",
       "      <td>3.246507e+06</td>\n",
       "      <td>3.246507e+06</td>\n",
       "      <td>3.246507e+06</td>\n",
       "      <td>3.246507e+06</td>\n",
       "      <td>3.246507e+06</td>\n",
       "    </tr>\n",
       "    <tr>\n",
       "      <th>mean</th>\n",
       "      <td>6.489080e+06</td>\n",
       "      <td>1.696320e+05</td>\n",
       "      <td>3.528092e+02</td>\n",
       "      <td>2.801509e+00</td>\n",
       "      <td>6.463740e-01</td>\n",
       "      <td>-2.569222e+00</td>\n",
       "      <td>1.739771e-02</td>\n",
       "      <td>3.290376e+01</td>\n",
       "    </tr>\n",
       "    <tr>\n",
       "      <th>std</th>\n",
       "      <td>5.301643e+06</td>\n",
       "      <td>1.704525e+05</td>\n",
       "      <td>3.281495e+02</td>\n",
       "      <td>4.690325e-01</td>\n",
       "      <td>3.380258e-01</td>\n",
       "      <td>2.081012e+00</td>\n",
       "      <td>1.457385e-03</td>\n",
       "      <td>2.732549e+00</td>\n",
       "    </tr>\n",
       "    <tr>\n",
       "      <th>min</th>\n",
       "      <td>8.343550e+05</td>\n",
       "      <td>0.000000e+00</td>\n",
       "      <td>0.000000e+00</td>\n",
       "      <td>1.988390e+00</td>\n",
       "      <td>0.000000e+00</td>\n",
       "      <td>-4.408104e+00</td>\n",
       "      <td>0.000000e+00</td>\n",
       "      <td>2.461202e+01</td>\n",
       "    </tr>\n",
       "    <tr>\n",
       "      <th>25%</th>\n",
       "      <td>1.645982e+06</td>\n",
       "      <td>1.026758e+04</td>\n",
       "      <td>0.000000e+00</td>\n",
       "      <td>2.413094e+00</td>\n",
       "      <td>4.980011e-01</td>\n",
       "      <td>-4.400026e+00</td>\n",
       "      <td>1.659088e-02</td>\n",
       "      <td>3.014927e+01</td>\n",
       "    </tr>\n",
       "    <tr>\n",
       "      <th>50%</th>\n",
       "      <td>6.891365e+06</td>\n",
       "      <td>1.370401e+05</td>\n",
       "      <td>2.970000e+02</td>\n",
       "      <td>3.022973e+00</td>\n",
       "      <td>5.984044e-01</td>\n",
       "      <td>-4.399726e+00</td>\n",
       "      <td>1.697572e-02</td>\n",
       "      <td>3.269007e+01</td>\n",
       "    </tr>\n",
       "    <tr>\n",
       "      <th>75%</th>\n",
       "      <td>1.231099e+07</td>\n",
       "      <td>2.772040e+05</td>\n",
       "      <td>6.100000e+02</td>\n",
       "      <td>3.142839e+00</td>\n",
       "      <td>9.771983e-01</td>\n",
       "      <td>-1.100047e-01</td>\n",
       "      <td>1.731287e-02</td>\n",
       "      <td>3.510753e+01</td>\n",
       "    </tr>\n",
       "    <tr>\n",
       "      <th>max</th>\n",
       "      <td>1.677897e+07</td>\n",
       "      <td>9.103222e+05</td>\n",
       "      <td>1.226000e+03</td>\n",
       "      <td>4.623832e+00</td>\n",
       "      <td>2.884083e+00</td>\n",
       "      <td>-2.384186e-07</td>\n",
       "      <td>2.156725e-02</td>\n",
       "      <td>4.147976e+01</td>\n",
       "    </tr>\n",
       "  </tbody>\n",
       "</table>\n",
       "</div>"
      ],
      "text/plain": [
       "              index     test_time   cycle_index       voltage  \\\n",
       "count  3.246507e+06  3.246507e+06  3.246507e+06  3.246507e+06   \n",
       "mean   6.489080e+06  1.696320e+05  3.528092e+02  2.801509e+00   \n",
       "std    5.301643e+06  1.704525e+05  3.281495e+02  4.690325e-01   \n",
       "min    8.343550e+05  0.000000e+00  0.000000e+00  1.988390e+00   \n",
       "25%    1.645982e+06  1.026758e+04  0.000000e+00  2.413094e+00   \n",
       "50%    6.891365e+06  1.370401e+05  2.970000e+02  3.022973e+00   \n",
       "75%    1.231099e+07  2.772040e+05  6.100000e+02  3.142839e+00   \n",
       "max    1.677897e+07  9.103222e+05  1.226000e+03  4.623832e+00   \n",
       "\n",
       "       discharge_capacity       current  internal_resistance   temperature  \n",
       "count        3.246507e+06  3.246507e+06         3.246507e+06  3.246507e+06  \n",
       "mean         6.463740e-01 -2.569222e+00         1.739771e-02  3.290376e+01  \n",
       "std          3.380258e-01  2.081012e+00         1.457385e-03  2.732549e+00  \n",
       "min          0.000000e+00 -4.408104e+00         0.000000e+00  2.461202e+01  \n",
       "25%          4.980011e-01 -4.400026e+00         1.659088e-02  3.014927e+01  \n",
       "50%          5.984044e-01 -4.399726e+00         1.697572e-02  3.269007e+01  \n",
       "75%          9.771983e-01 -1.100047e-01         1.731287e-02  3.510753e+01  \n",
       "max          2.884083e+00 -2.384186e-07         2.156725e-02  4.147976e+01  "
      ]
     },
     "execution_count": 10,
     "metadata": {},
     "output_type": "execute_result"
    }
   ],
   "source": [
    "# Display statistical summary of numerical columns\n",
    "print(\"\\nStatistical summary of numerical columns:\")\n",
    "df.describe()"
   ]
  },
  {
   "cell_type": "markdown",
   "metadata": {},
   "source": [
    "Numerical Variables\n"
   ]
  },
  {
   "cell_type": "code",
   "execution_count": 11,
   "metadata": {},
   "outputs": [
    {
     "name": "stdout",
     "output_type": "stream",
     "text": [
      "Number of numerical variables:  8\n"
     ]
    },
    {
     "data": {
      "text/html": [
       "<div>\n",
       "<style scoped>\n",
       "    .dataframe tbody tr th:only-of-type {\n",
       "        vertical-align: middle;\n",
       "    }\n",
       "\n",
       "    .dataframe tbody tr th {\n",
       "        vertical-align: top;\n",
       "    }\n",
       "\n",
       "    .dataframe thead th {\n",
       "        text-align: right;\n",
       "    }\n",
       "</style>\n",
       "<table border=\"1\" class=\"dataframe\">\n",
       "  <thead>\n",
       "    <tr style=\"text-align: right;\">\n",
       "      <th></th>\n",
       "      <th>index</th>\n",
       "      <th>test_time</th>\n",
       "      <th>cycle_index</th>\n",
       "      <th>voltage</th>\n",
       "      <th>discharge_capacity</th>\n",
       "      <th>current</th>\n",
       "      <th>internal_resistance</th>\n",
       "      <th>temperature</th>\n",
       "    </tr>\n",
       "  </thead>\n",
       "  <tbody>\n",
       "    <tr>\n",
       "      <th>0</th>\n",
       "      <td>834355</td>\n",
       "      <td>1801.8327</td>\n",
       "      <td>0.0</td>\n",
       "      <td>3.291040</td>\n",
       "      <td>0.000016</td>\n",
       "      <td>-0.450999</td>\n",
       "      <td>0.021151</td>\n",
       "      <td>29.973852</td>\n",
       "    </tr>\n",
       "    <tr>\n",
       "      <th>1</th>\n",
       "      <td>834356</td>\n",
       "      <td>1811.8329</td>\n",
       "      <td>0.0</td>\n",
       "      <td>3.281339</td>\n",
       "      <td>0.001570</td>\n",
       "      <td>-0.559847</td>\n",
       "      <td>0.021151</td>\n",
       "      <td>30.012213</td>\n",
       "    </tr>\n",
       "    <tr>\n",
       "      <th>2</th>\n",
       "      <td>834357</td>\n",
       "      <td>1821.8363</td>\n",
       "      <td>0.0</td>\n",
       "      <td>3.277671</td>\n",
       "      <td>0.003125</td>\n",
       "      <td>-0.559859</td>\n",
       "      <td>0.021151</td>\n",
       "      <td>29.995052</td>\n",
       "    </tr>\n",
       "    <tr>\n",
       "      <th>3</th>\n",
       "      <td>834358</td>\n",
       "      <td>1831.8373</td>\n",
       "      <td>0.0</td>\n",
       "      <td>3.275081</td>\n",
       "      <td>0.004680</td>\n",
       "      <td>-0.559828</td>\n",
       "      <td>0.021151</td>\n",
       "      <td>29.981087</td>\n",
       "    </tr>\n",
       "    <tr>\n",
       "      <th>4</th>\n",
       "      <td>834359</td>\n",
       "      <td>1841.8468</td>\n",
       "      <td>0.0</td>\n",
       "      <td>3.273016</td>\n",
       "      <td>0.006237</td>\n",
       "      <td>-0.559821</td>\n",
       "      <td>0.021151</td>\n",
       "      <td>30.000351</td>\n",
       "    </tr>\n",
       "  </tbody>\n",
       "</table>\n",
       "</div>"
      ],
      "text/plain": [
       "    index  test_time  cycle_index   voltage  discharge_capacity   current  \\\n",
       "0  834355  1801.8327          0.0  3.291040            0.000016 -0.450999   \n",
       "1  834356  1811.8329          0.0  3.281339            0.001570 -0.559847   \n",
       "2  834357  1821.8363          0.0  3.277671            0.003125 -0.559859   \n",
       "3  834358  1831.8373          0.0  3.275081            0.004680 -0.559828   \n",
       "4  834359  1841.8468          0.0  3.273016            0.006237 -0.559821   \n",
       "\n",
       "   internal_resistance  temperature  \n",
       "0             0.021151    29.973852  \n",
       "1             0.021151    30.012213  \n",
       "2             0.021151    29.995052  \n",
       "3             0.021151    29.981087  \n",
       "4             0.021151    30.000351  "
      ]
     },
     "execution_count": 11,
     "metadata": {},
     "output_type": "execute_result"
    }
   ],
   "source": [
    "# list of numerical variables\n",
    "numerical_features = [feature for feature in df.columns if df[feature].dtypes != 'O']\n",
    "\n",
    "print('Number of numerical variables: ', len(numerical_features))\n",
    "\n",
    "# visualise the numerical variables\n",
    "df[numerical_features].head()"
   ]
  },
  {
   "cell_type": "code",
   "execution_count": 12,
   "metadata": {},
   "outputs": [
    {
     "name": "stdout",
     "output_type": "stream",
     "text": [
      "Number of categorical variables:  1\n"
     ]
    },
    {
     "data": {
      "text/html": [
       "<div>\n",
       "<style scoped>\n",
       "    .dataframe tbody tr th:only-of-type {\n",
       "        vertical-align: middle;\n",
       "    }\n",
       "\n",
       "    .dataframe tbody tr th {\n",
       "        vertical-align: top;\n",
       "    }\n",
       "\n",
       "    .dataframe thead th {\n",
       "        text-align: right;\n",
       "    }\n",
       "</style>\n",
       "<table border=\"1\" class=\"dataframe\">\n",
       "  <thead>\n",
       "    <tr style=\"text-align: right;\">\n",
       "      <th></th>\n",
       "      <th>cell_index</th>\n",
       "    </tr>\n",
       "  </thead>\n",
       "  <tbody>\n",
       "    <tr>\n",
       "      <th>0</th>\n",
       "      <td>2017-05-12_5_4C-50per_3C_CH13</td>\n",
       "    </tr>\n",
       "    <tr>\n",
       "      <th>1</th>\n",
       "      <td>2017-05-12_5_4C-50per_3C_CH13</td>\n",
       "    </tr>\n",
       "    <tr>\n",
       "      <th>2</th>\n",
       "      <td>2017-05-12_5_4C-50per_3C_CH13</td>\n",
       "    </tr>\n",
       "    <tr>\n",
       "      <th>3</th>\n",
       "      <td>2017-05-12_5_4C-50per_3C_CH13</td>\n",
       "    </tr>\n",
       "    <tr>\n",
       "      <th>4</th>\n",
       "      <td>2017-05-12_5_4C-50per_3C_CH13</td>\n",
       "    </tr>\n",
       "  </tbody>\n",
       "</table>\n",
       "</div>"
      ],
      "text/plain": [
       "                      cell_index\n",
       "0  2017-05-12_5_4C-50per_3C_CH13\n",
       "1  2017-05-12_5_4C-50per_3C_CH13\n",
       "2  2017-05-12_5_4C-50per_3C_CH13\n",
       "3  2017-05-12_5_4C-50per_3C_CH13\n",
       "4  2017-05-12_5_4C-50per_3C_CH13"
      ]
     },
     "execution_count": 12,
     "metadata": {},
     "output_type": "execute_result"
    }
   ],
   "source": [
    "# List of categorical variables\n",
    "categorical_features = [feature for feature in df.columns if df[feature].dtype == 'O']\n",
    "\n",
    "# Print the number of categorical variables\n",
    "print('Number of categorical variables: ', len(categorical_features))\n",
    "# Visualize the categorical variables\n",
    "df[categorical_features].head()\n",
    "\n",
    "\n",
    "\n",
    "\n"
   ]
  },
  {
   "cell_type": "code",
   "execution_count": 13,
   "metadata": {},
   "outputs": [
    {
     "name": "stdout",
     "output_type": "stream",
     "text": [
      "Unique categories in cell_index: ['2017-05-12_5_4C-50per_3C_CH13' '2017-05-12_5_4C-50per_3C_CH14'\n",
      " '2017-05-12_5_4C-70per_3C_CH17' '2017-05-12_4C-80per_4C_CH6'\n",
      " '2017-05-12_5_4C-40per_3_6C_CH20' '2017-05-12_6C-40per_3_6C_CH33']\n"
     ]
    }
   ],
   "source": [
    "# Find unique categories in each categorical variable\n",
    "unique_categories = {feature: df[feature].unique() for feature in categorical_features}\n",
    "\n",
    "# Print the unique categories for each categorical variable\n",
    "for feature, categories in unique_categories.items():\n",
    "    print(f'Unique categories in {feature}: {categories}')"
   ]
  },
  {
   "cell_type": "code",
   "execution_count": 14,
   "metadata": {},
   "outputs": [
    {
     "name": "stdout",
     "output_type": "stream",
     "text": [
      "\n",
      "Numerical Features: ['index', 'test_time', 'cycle_index', 'voltage', 'discharge_capacity', 'current', 'internal_resistance', 'temperature']\n",
      "Categorical Features: ['cell_index']\n"
     ]
    }
   ],
   "source": [
    "print(\"\\nNumerical Features:\", numerical_features)\n",
    "print(\"Categorical Features:\", categorical_features)"
   ]
  },
  {
   "cell_type": "code",
   "execution_count": null,
   "metadata": {},
   "outputs": [],
   "source": []
  }
 ],
 "metadata": {
  "kernelspec": {
   "display_name": "env",
   "language": "python",
   "name": "python3"
  },
  "language_info": {
   "codemirror_mode": {
    "name": "ipython",
    "version": 3
   },
   "file_extension": ".py",
   "mimetype": "text/x-python",
   "name": "python",
   "nbconvert_exporter": "python",
   "pygments_lexer": "ipython3",
   "version": "3.11.9"
  }
 },
 "nbformat": 4,
 "nbformat_minor": 2
}
