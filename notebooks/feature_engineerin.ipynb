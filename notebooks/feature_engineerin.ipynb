{
 "cells": [
  {
   "cell_type": "code",
   "execution_count": 1,
   "metadata": {},
   "outputs": [],
   "source": [
    "import pandas as pd\n",
    "import matplotlib.pyplot as plt\n",
    "import seaborn as sns\n",
    "import numpy as np\n",
    "\n",
    "# Load the dataset\n",
    "df_cleaned=pd.read_csv('../data/cleaned_data.csv')"
   ]
  },
  {
   "cell_type": "code",
   "execution_count": 2,
   "metadata": {},
   "outputs": [
    {
     "data": {
      "text/html": [
       "<div>\n",
       "<style scoped>\n",
       "    .dataframe tbody tr th:only-of-type {\n",
       "        vertical-align: middle;\n",
       "    }\n",
       "\n",
       "    .dataframe tbody tr th {\n",
       "        vertical-align: top;\n",
       "    }\n",
       "\n",
       "    .dataframe thead th {\n",
       "        text-align: right;\n",
       "    }\n",
       "</style>\n",
       "<table border=\"1\" class=\"dataframe\">\n",
       "  <thead>\n",
       "    <tr style=\"text-align: right;\">\n",
       "      <th></th>\n",
       "      <th>index</th>\n",
       "      <th>test_time</th>\n",
       "      <th>cycle_index</th>\n",
       "      <th>cell_index</th>\n",
       "      <th>voltage</th>\n",
       "      <th>discharge_capacity</th>\n",
       "      <th>current</th>\n",
       "      <th>internal_resistance</th>\n",
       "      <th>temperature</th>\n",
       "    </tr>\n",
       "  </thead>\n",
       "  <tbody>\n",
       "    <tr>\n",
       "      <th>0</th>\n",
       "      <td>834355</td>\n",
       "      <td>1801.8327</td>\n",
       "      <td>0.0</td>\n",
       "      <td>2017-05-12_5_4C-50per_3C_CH13</td>\n",
       "      <td>3.291040</td>\n",
       "      <td>0.000016</td>\n",
       "      <td>-0.450999</td>\n",
       "      <td>0.021151</td>\n",
       "      <td>29.973852</td>\n",
       "    </tr>\n",
       "    <tr>\n",
       "      <th>1</th>\n",
       "      <td>834356</td>\n",
       "      <td>1811.8329</td>\n",
       "      <td>0.0</td>\n",
       "      <td>2017-05-12_5_4C-50per_3C_CH13</td>\n",
       "      <td>3.281339</td>\n",
       "      <td>0.001570</td>\n",
       "      <td>-0.559847</td>\n",
       "      <td>0.021151</td>\n",
       "      <td>30.012213</td>\n",
       "    </tr>\n",
       "    <tr>\n",
       "      <th>2</th>\n",
       "      <td>834357</td>\n",
       "      <td>1821.8363</td>\n",
       "      <td>0.0</td>\n",
       "      <td>2017-05-12_5_4C-50per_3C_CH13</td>\n",
       "      <td>3.277671</td>\n",
       "      <td>0.003125</td>\n",
       "      <td>-0.559859</td>\n",
       "      <td>0.021151</td>\n",
       "      <td>29.995052</td>\n",
       "    </tr>\n",
       "    <tr>\n",
       "      <th>3</th>\n",
       "      <td>834358</td>\n",
       "      <td>1831.8373</td>\n",
       "      <td>0.0</td>\n",
       "      <td>2017-05-12_5_4C-50per_3C_CH13</td>\n",
       "      <td>3.275081</td>\n",
       "      <td>0.004680</td>\n",
       "      <td>-0.559828</td>\n",
       "      <td>0.021151</td>\n",
       "      <td>29.981087</td>\n",
       "    </tr>\n",
       "    <tr>\n",
       "      <th>4</th>\n",
       "      <td>834359</td>\n",
       "      <td>1841.8468</td>\n",
       "      <td>0.0</td>\n",
       "      <td>2017-05-12_5_4C-50per_3C_CH13</td>\n",
       "      <td>3.273016</td>\n",
       "      <td>0.006237</td>\n",
       "      <td>-0.559821</td>\n",
       "      <td>0.021151</td>\n",
       "      <td>30.000351</td>\n",
       "    </tr>\n",
       "  </tbody>\n",
       "</table>\n",
       "</div>"
      ],
      "text/plain": [
       "    index  test_time  cycle_index                     cell_index   voltage  \\\n",
       "0  834355  1801.8327          0.0  2017-05-12_5_4C-50per_3C_CH13  3.291040   \n",
       "1  834356  1811.8329          0.0  2017-05-12_5_4C-50per_3C_CH13  3.281339   \n",
       "2  834357  1821.8363          0.0  2017-05-12_5_4C-50per_3C_CH13  3.277671   \n",
       "3  834358  1831.8373          0.0  2017-05-12_5_4C-50per_3C_CH13  3.275081   \n",
       "4  834359  1841.8468          0.0  2017-05-12_5_4C-50per_3C_CH13  3.273016   \n",
       "\n",
       "   discharge_capacity   current  internal_resistance  temperature  \n",
       "0            0.000016 -0.450999             0.021151    29.973852  \n",
       "1            0.001570 -0.559847             0.021151    30.012213  \n",
       "2            0.003125 -0.559859             0.021151    29.995052  \n",
       "3            0.004680 -0.559828             0.021151    29.981087  \n",
       "4            0.006237 -0.559821             0.021151    30.000351  "
      ]
     },
     "execution_count": 2,
     "metadata": {},
     "output_type": "execute_result"
    }
   ],
   "source": [
    "df_cleaned.head()"
   ]
  },
  {
   "cell_type": "code",
   "execution_count": null,
   "metadata": {},
   "outputs": [],
   "source": [
    "df_cleaned[\"cell_index\"].unique()"
   ]
  },
  {
   "cell_type": "markdown",
   "metadata": {},
   "source": [
    "### converting all data into numerical form : encoding"
   ]
  },
  {
   "cell_type": "code",
   "execution_count": 3,
   "metadata": {},
   "outputs": [
    {
     "name": "stderr",
     "output_type": "stream",
     "text": [
      "C:\\Users\\Akanksha\\AppData\\Local\\Temp\\ipykernel_6920\\3379787380.py:11: FutureWarning: Downcasting behavior in `replace` is deprecated and will be removed in a future version. To retain the old behavior, explicitly call `result.infer_objects(copy=False)`. To opt-in to the future behavior, set `pd.set_option('future.no_silent_downcasting', True)`\n",
      "  df_cleaned[\"cell_index\"] = df_cleaned[\"cell_index\"].replace(mapping)\n"
     ]
    }
   ],
   "source": [
    "mapping = {\n",
    "    '2017-05-12_5_4C-50per_3C_CH13': 0,\n",
    "    '2017-05-12_5_4C-50per_3C_CH14': 1,\n",
    "    '2017-05-12_5_4C-70per_3C_CH17': 2,\n",
    "    '2017-05-12_4C-80per_4C_CH6': 3,\n",
    "    '2017-05-12_5_4C-40per_3_6C_CH20': 4,\n",
    "    '2017-05-12_6C-40per_3_6C_CH33': 5\n",
    "}\n",
    "\n",
    "# Replace categorical values with numerical ones\n",
    "df_cleaned[\"cell_index\"] = df_cleaned[\"cell_index\"].replace(mapping)\n"
   ]
  },
  {
   "cell_type": "code",
   "execution_count": null,
   "metadata": {},
   "outputs": [],
   "source": [
    "df_cleaned\n"
   ]
  },
  {
   "cell_type": "code",
   "execution_count": null,
   "metadata": {},
   "outputs": [],
   "source": [
    "df_cleaned.info()"
   ]
  },
  {
   "cell_type": "code",
   "execution_count": null,
   "metadata": {},
   "outputs": [],
   "source": [
    "df_cleaned.corr()"
   ]
  },
  {
   "cell_type": "code",
   "execution_count": null,
   "metadata": {},
   "outputs": [],
   "source": [
    "sns.heatmap(df_cleaned.corr(), annot=True)"
   ]
  },
  {
   "cell_type": "code",
   "execution_count": null,
   "metadata": {},
   "outputs": [],
   "source": [
    "sns.heatmap(df_cleaned.corr(), annot=True, cmap=\"rainbow\")"
   ]
  },
  {
   "cell_type": "code",
   "execution_count": null,
   "metadata": {},
   "outputs": [],
   "source": [
    "numerical_features = [feature for feature in df_cleaned.columns if df_cleaned[feature].dtypes != 'O']"
   ]
  },
  {
   "cell_type": "code",
   "execution_count": null,
   "metadata": {},
   "outputs": [],
   "source": [
    "# IQR Method\n",
    "anomalies_iqr = {}\n",
    "for feature in numerical_features:\n",
    "    Q1 = df_cleaned[feature].quantile(0.25)\n",
    "    Q3 = df_cleaned[feature].quantile(0.75)\n",
    "    IQR = Q3 - Q1\n",
    "    lower_bound = Q1 - 1.5 * IQR\n",
    "    upper_bound = Q3 + 1.5 * IQR\n",
    "    anomalies_iqr[feature] = df_cleaned[(df_cleaned[feature] < lower_bound) | (df_cleaned[feature] > upper_bound)]\n",
    "\n"
   ]
  },
  {
   "cell_type": "code",
   "execution_count": null,
   "metadata": {},
   "outputs": [],
   "source": [
    "# Display anomalies detected by IQR\n",
    "for feature, anomaly_data in anomalies_iqr.items():\n",
    "    print(f\"Anomalies in {feature} (IQR):\\n\", anomaly_data)"
   ]
  },
  {
   "cell_type": "markdown",
   "metadata": {},
   "source": [
    "# Handling anamolies"
   ]
  },
  {
   "cell_type": "code",
   "execution_count": null,
   "metadata": {},
   "outputs": [],
   "source": [
    "# Calculate IQR\n",
    "Q1 = df_cleaned[feature].quantile(0.25)\n",
    "Q3 = df_cleaned[feature].quantile(0.75)\n",
    "IQR = Q3 - Q1\n",
    "\n",
    "# Define lower and upper bounds\n",
    "lower_bound = Q1 - 1.5 * IQR\n",
    "upper_bound = Q3 + 1.5 * IQR\n",
    "\n",
    "# Filter out rows outside the bounds\n",
    "df_no_outliers = df_cleaned[(df_cleaned[feature] >= lower_bound) & (df_cleaned[feature] <= upper_bound)]\n"
   ]
  },
  {
   "cell_type": "code",
   "execution_count": null,
   "metadata": {},
   "outputs": [],
   "source": [
    "# Replace outliers with median\n",
    "median = df_cleaned[feature].median()\n",
    "df_cleaned[feature] = np.where((df_cleaned[feature] < lower_bound) | (df_cleaned[feature] > upper_bound), median, df_cleaned[feature])\n"
   ]
  },
  {
   "cell_type": "code",
   "execution_count": null,
   "metadata": {},
   "outputs": [],
   "source": [
    "# Add a column to flag outliers\n",
    "df_cleaned['is_outlier'] = ((df_cleaned[feature] < lower_bound) | (df_cleaned[feature] > upper_bound)).astype(int)\n"
   ]
  },
  {
   "cell_type": "code",
   "execution_count": null,
   "metadata": {},
   "outputs": [],
   "source": [
    "for feature in numerical_features:\n",
    "    plt.figure(figsize=(8, 4))\n",
    "    sns.boxplot(x=df_cleaned[feature])\n",
    "    plt.title(f'Boxplot of {feature} (Outliers Removed)')\n",
    "    plt.show()"
   ]
  },
  {
   "cell_type": "code",
   "execution_count": null,
   "metadata": {},
   "outputs": [],
   "source": [
    "sns.pairplot(df_cleaned)"
   ]
  }
 ],
 "metadata": {
  "kernelspec": {
   "display_name": "env",
   "language": "python",
   "name": "python3"
  },
  "language_info": {
   "codemirror_mode": {
    "name": "ipython",
    "version": 3
   },
   "file_extension": ".py",
   "mimetype": "text/x-python",
   "name": "python",
   "nbconvert_exporter": "python",
   "pygments_lexer": "ipython3",
   "version": "3.11.9"
  }
 },
 "nbformat": 4,
 "nbformat_minor": 2
}
